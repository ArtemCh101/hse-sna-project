{
 "cells": [
  {
   "cell_type": "code",
   "execution_count": 1,
   "metadata": {},
   "outputs": [],
   "source": [
    "import pandas as pd\n",
    "import os\n",
    "import numpy as np\n",
    "import re\n",
    "\n",
    "from sklearn.linear_model import LogisticRegression, LinearRegression\n",
    "from sklearn.metrics import f1_score, classification_report\n",
    "from sklearn.feature_extraction.text import CountVectorizer\n",
    "\n",
    "from gensim.models import KeyedVectors\n",
    "import nltk\n",
    "from nltk.corpus import stopwords\n",
    "from nltk.stem.porter import *\n",
    "\n",
    "from matplotlib import pyplot as plt"
   ]
  },
  {
   "cell_type": "code",
   "execution_count": 2,
   "metadata": {},
   "outputs": [],
   "source": [
    "import networkx as nx\n",
    "import sys\n",
    "scripts_dir = os.path.join(os.path.dirname(os.path.abspath('')), 'scripts')\n",
    "if not scripts_dir in sys.path:\n",
    "    sys.path.append(scripts_dir)\n",
    "from get_graph import get_digraph\n",
    "from CitationRateEncoder import CitationRateEncoder\n",
    "from past_present_train_test_split import prepare_training_data"
   ]
  },
  {
   "cell_type": "markdown",
   "metadata": {},
   "source": [
    "Get the training and test data from our graph"
   ]
  },
  {
   "cell_type": "code",
   "execution_count": null,
   "metadata": {},
   "outputs": [
    {
     "name": "stdout",
     "output_type": "stream",
     "text": [
      "Papers after date found by split : 20206\n"
     ]
    },
    {
     "data": {
      "text/html": [
       "<div>\n",
       "<style scoped>\n",
       "    .dataframe tbody tr th:only-of-type {\n",
       "        vertical-align: middle;\n",
       "    }\n",
       "\n",
       "    .dataframe tbody tr th {\n",
       "        vertical-align: top;\n",
       "    }\n",
       "\n",
       "    .dataframe thead th {\n",
       "        text-align: right;\n",
       "    }\n",
       "</style>\n",
       "<table border=\"1\" class=\"dataframe\">\n",
       "  <thead>\n",
       "    <tr style=\"text-align: right;\">\n",
       "      <th></th>\n",
       "      <th>Abstract</th>\n",
       "      <th>target_citation_rate</th>\n",
       "    </tr>\n",
       "    <tr>\n",
       "      <th>Paper_ID</th>\n",
       "      <th></th>\n",
       "      <th></th>\n",
       "    </tr>\n",
       "  </thead>\n",
       "  <tbody>\n",
       "    <tr>\n",
       "      <th>1001</th>\n",
       "      <td>These are notes based on lectures given at TAS...</td>\n",
       "      <td>6</td>\n",
       "    </tr>\n",
       "    <tr>\n",
       "      <th>1002</th>\n",
       "      <td>We point out that massive gauged supergravity ...</td>\n",
       "      <td>8</td>\n",
       "    </tr>\n",
       "    <tr>\n",
       "      <th>1003</th>\n",
       "      <td>Recently, Ivanov and Volovich (hep-th/9912242)...</td>\n",
       "      <td>1</td>\n",
       "    </tr>\n",
       "    <tr>\n",
       "      <th>1004</th>\n",
       "      <td>Quantum fields responding to \"moving mirrors\" ...</td>\n",
       "      <td>0</td>\n",
       "    </tr>\n",
       "    <tr>\n",
       "      <th>1005</th>\n",
       "      <td>Various aspects of spaces of chiral blocks are...</td>\n",
       "      <td>0</td>\n",
       "    </tr>\n",
       "  </tbody>\n",
       "</table>\n",
       "</div>"
      ],
      "text/plain": [
       "                                                   Abstract  \\\n",
       "Paper_ID                                                      \n",
       "1001      These are notes based on lectures given at TAS...   \n",
       "1002      We point out that massive gauged supergravity ...   \n",
       "1003      Recently, Ivanov and Volovich (hep-th/9912242)...   \n",
       "1004      Quantum fields responding to \"moving mirrors\" ...   \n",
       "1005      Various aspects of spaces of chiral blocks are...   \n",
       "\n",
       "          target_citation_rate  \n",
       "Paper_ID                        \n",
       "1001                         6  \n",
       "1002                         8  \n",
       "1003                         1  \n",
       "1004                         0  \n",
       "1005                         0  "
      ]
     },
     "execution_count": 3,
     "metadata": {},
     "output_type": "execute_result"
    }
   ],
   "source": [
    "input_date='2001-01-01'\n",
    "test_frac=0.1\n",
    "G, df, (train, test) = prepare_training_data(input_date=input_date,test_frac=test_frac)\n",
    "df = df.drop(columns=['Date', 'Title', 'Authors'])\n",
    "df.set_index('Paper_ID', inplace=True)\n",
    "df.head()"
   ]
  },
  {
   "cell_type": "markdown",
   "metadata": {},
   "source": [
    "Split citations rates into classes"
   ]
  },
  {
   "cell_type": "code",
   "execution_count": 4,
   "metadata": {},
   "outputs": [
    {
     "data": {
      "text/html": [
       "<div>\n",
       "<style scoped>\n",
       "    .dataframe tbody tr th:only-of-type {\n",
       "        vertical-align: middle;\n",
       "    }\n",
       "\n",
       "    .dataframe tbody tr th {\n",
       "        vertical-align: top;\n",
       "    }\n",
       "\n",
       "    .dataframe thead th {\n",
       "        text-align: right;\n",
       "    }\n",
       "</style>\n",
       "<table border=\"1\" class=\"dataframe\">\n",
       "  <thead>\n",
       "    <tr style=\"text-align: right;\">\n",
       "      <th></th>\n",
       "      <th>Abstract</th>\n",
       "      <th>target_citation_rate</th>\n",
       "    </tr>\n",
       "    <tr>\n",
       "      <th>Paper_ID</th>\n",
       "      <th></th>\n",
       "      <th></th>\n",
       "    </tr>\n",
       "  </thead>\n",
       "  <tbody>\n",
       "    <tr>\n",
       "      <th>1001</th>\n",
       "      <td>These are notes based on lectures given at TAS...</td>\n",
       "      <td>3</td>\n",
       "    </tr>\n",
       "    <tr>\n",
       "      <th>1002</th>\n",
       "      <td>We point out that massive gauged supergravity ...</td>\n",
       "      <td>3</td>\n",
       "    </tr>\n",
       "    <tr>\n",
       "      <th>1003</th>\n",
       "      <td>Recently, Ivanov and Volovich (hep-th/9912242)...</td>\n",
       "      <td>1</td>\n",
       "    </tr>\n",
       "    <tr>\n",
       "      <th>1004</th>\n",
       "      <td>Quantum fields responding to \"moving mirrors\" ...</td>\n",
       "      <td>0</td>\n",
       "    </tr>\n",
       "    <tr>\n",
       "      <th>1005</th>\n",
       "      <td>Various aspects of spaces of chiral blocks are...</td>\n",
       "      <td>0</td>\n",
       "    </tr>\n",
       "  </tbody>\n",
       "</table>\n",
       "</div>"
      ],
      "text/plain": [
       "                                                   Abstract  \\\n",
       "Paper_ID                                                      \n",
       "1001      These are notes based on lectures given at TAS...   \n",
       "1002      We point out that massive gauged supergravity ...   \n",
       "1003      Recently, Ivanov and Volovich (hep-th/9912242)...   \n",
       "1004      Quantum fields responding to \"moving mirrors\" ...   \n",
       "1005      Various aspects of spaces of chiral blocks are...   \n",
       "\n",
       "          target_citation_rate  \n",
       "Paper_ID                        \n",
       "1001                         3  \n",
       "1002                         3  \n",
       "1003                         1  \n",
       "1004                         0  \n",
       "1005                         0  "
      ]
     },
     "execution_count": 4,
     "metadata": {},
     "output_type": "execute_result"
    },
    {
     "data": {
      "image/png": "[encoded data removed]",
      "text/plain": [
       "<Figure size 640x480 with 1 Axes>"
      ]
     },
     "metadata": {},
     "output_type": "display_data"
    }
   ],
   "source": [
    "n_classes = 4\n",
    "encoder = CitationRateEncoder(n_classes)\n",
    "encoder.fit(df['target_citation_rate'])\n",
    "df['target_citation_rate'] = df['target_citation_rate'].apply(encoder.transform)\n",
    "df['target_citation_rate'].hist()\n",
    "df.head()"
   ]
  },
  {
   "cell_type": "markdown",
   "metadata": {},
   "source": [
    "We do some text preprocessing using stemming and stopwords removal"
   ]
  },
  {
   "cell_type": "code",
   "execution_count": 5,
   "metadata": {},
   "outputs": [
    {
     "name": "stderr",
     "output_type": "stream",
     "text": [
      "[nltk_data] Downloading package stopwords to /root/nltk_data...\n",
      "[nltk_data]   Package stopwords is already up-to-date!\n"
     ]
    }
   ],
   "source": [
    "def preprocess_text(text: str):\n",
    "    return re.sub(r'[^\\w^\\s]+', '', text).lower().split()\n",
    "\n",
    "\n",
    "def easy_preprocess(text):\n",
    "    return ' '.join(preprocess_text(str(text)))\n",
    "\n",
    "nltk.download('stopwords')\n",
    "stemmer = PorterStemmer()\n",
    "\n",
    "def remove_stopwords(text: str):\n",
    "    stopWords = set(stopwords.words('english'))\n",
    "    return ' '.join([w for w in text.split() if w not in stopWords])\n",
    "\n",
    "\n",
    "def medium_preprocess(text: str) -> list:\n",
    "    return ' '.join([stemmer.stem(word) for word in text.split()])"
   ]
  },
  {
   "cell_type": "code",
   "execution_count": 6,
   "metadata": {},
   "outputs": [],
   "source": [
    "def full_text_preprocess(text: str):\n",
    "    s_1 = easy_preprocess(text)\n",
    "    s_2 = remove_stopwords(s_1)\n",
    "    s_3 = medium_preprocess(s_2)\n",
    "    return s_3"
   ]
  },
  {
   "cell_type": "code",
   "execution_count": 7,
   "metadata": {},
   "outputs": [
    {
     "data": {
      "text/html": [
       "<div>\n",
       "<style scoped>\n",
       "    .dataframe tbody tr th:only-of-type {\n",
       "        vertical-align: middle;\n",
       "    }\n",
       "\n",
       "    .dataframe tbody tr th {\n",
       "        vertical-align: top;\n",
       "    }\n",
       "\n",
       "    .dataframe thead th {\n",
       "        text-align: right;\n",
       "    }\n",
       "</style>\n",
       "<table border=\"1\" class=\"dataframe\">\n",
       "  <thead>\n",
       "    <tr style=\"text-align: right;\">\n",
       "      <th></th>\n",
       "      <th>Abstract</th>\n",
       "      <th>target_citation_rate</th>\n",
       "      <th>Preprocessed</th>\n",
       "    </tr>\n",
       "    <tr>\n",
       "      <th>Paper_ID</th>\n",
       "      <th></th>\n",
       "      <th></th>\n",
       "      <th></th>\n",
       "    </tr>\n",
       "  </thead>\n",
       "  <tbody>\n",
       "    <tr>\n",
       "      <th>1001</th>\n",
       "      <td>These are notes based on lectures given at TAS...</td>\n",
       "      <td>3</td>\n",
       "      <td>note base lectur given tasi99 review geometri ...</td>\n",
       "    </tr>\n",
       "    <tr>\n",
       "      <th>1002</th>\n",
       "      <td>We point out that massive gauged supergravity ...</td>\n",
       "      <td>3</td>\n",
       "      <td>point massiv gaug supergrav potenti exampl ari...</td>\n",
       "    </tr>\n",
       "    <tr>\n",
       "      <th>1003</th>\n",
       "      <td>Recently, Ivanov and Volovich (hep-th/9912242)...</td>\n",
       "      <td>1</td>\n",
       "      <td>recent ivanov volovich hepth9912242 claim pert...</td>\n",
       "    </tr>\n",
       "    <tr>\n",
       "      <th>1004</th>\n",
       "      <td>Quantum fields responding to \"moving mirrors\" ...</td>\n",
       "      <td>0</td>\n",
       "      <td>quantum field respond move mirror predict give...</td>\n",
       "    </tr>\n",
       "    <tr>\n",
       "      <th>1005</th>\n",
       "      <td>Various aspects of spaces of chiral blocks are...</td>\n",
       "      <td>0</td>\n",
       "      <td>variou aspect space chiral block discuss parti...</td>\n",
       "    </tr>\n",
       "    <tr>\n",
       "      <th>...</th>\n",
       "      <td>...</td>\n",
       "      <td>...</td>\n",
       "      <td>...</td>\n",
       "    </tr>\n",
       "    <tr>\n",
       "      <th>9912289</th>\n",
       "      <td>In a recent work we showed that for a Hamilton...</td>\n",
       "      <td>2</td>\n",
       "      <td>recent work show hamiltonian system constraint...</td>\n",
       "    </tr>\n",
       "    <tr>\n",
       "      <th>9912290</th>\n",
       "      <td>We discuss shuffle identities between Feynman ...</td>\n",
       "      <td>1</td>\n",
       "      <td>discuss shuffl ident feynman graph use hopf al...</td>\n",
       "    </tr>\n",
       "    <tr>\n",
       "      <th>9912291</th>\n",
       "      <td>We show a simple way of deriving the Casimir P...</td>\n",
       "      <td>2</td>\n",
       "      <td>show simpl way deriv casimir polder interact p...</td>\n",
       "    </tr>\n",
       "    <tr>\n",
       "      <th>9912292</th>\n",
       "      <td>We construct the worldline superfield massive ...</td>\n",
       "      <td>0</td>\n",
       "      <td>construct worldlin superfield massiv superpart...</td>\n",
       "    </tr>\n",
       "    <tr>\n",
       "      <th>9912293</th>\n",
       "      <td>In a recent paper Seiberg and Witten have argu...</td>\n",
       "      <td>3</td>\n",
       "      <td>recent paper seiberg witten argu full action d...</td>\n",
       "    </tr>\n",
       "  </tbody>\n",
       "</table>\n",
       "<p>20206 rows × 3 columns</p>\n",
       "</div>"
      ],
      "text/plain": [
       "                                                   Abstract  \\\n",
       "Paper_ID                                                      \n",
       "1001      These are notes based on lectures given at TAS...   \n",
       "1002      We point out that massive gauged supergravity ...   \n",
       "1003      Recently, Ivanov and Volovich (hep-th/9912242)...   \n",
       "1004      Quantum fields responding to \"moving mirrors\" ...   \n",
       "1005      Various aspects of spaces of chiral blocks are...   \n",
       "...                                                     ...   \n",
       "9912289   In a recent work we showed that for a Hamilton...   \n",
       "9912290   We discuss shuffle identities between Feynman ...   \n",
       "9912291   We show a simple way of deriving the Casimir P...   \n",
       "9912292   We construct the worldline superfield massive ...   \n",
       "9912293   In a recent paper Seiberg and Witten have argu...   \n",
       "\n",
       "          target_citation_rate  \\\n",
       "Paper_ID                         \n",
       "1001                         3   \n",
       "1002                         3   \n",
       "1003                         1   \n",
       "1004                         0   \n",
       "1005                         0   \n",
       "...                        ...   \n",
       "9912289                      2   \n",
       "9912290                      1   \n",
       "9912291                      2   \n",
       "9912292                      0   \n",
       "9912293                      3   \n",
       "\n",
       "                                               Preprocessed  \n",
       "Paper_ID                                                     \n",
       "1001      note base lectur given tasi99 review geometri ...  \n",
       "1002      point massiv gaug supergrav potenti exampl ari...  \n",
       "1003      recent ivanov volovich hepth9912242 claim pert...  \n",
       "1004      quantum field respond move mirror predict give...  \n",
       "1005      variou aspect space chiral block discuss parti...  \n",
       "...                                                     ...  \n",
       "9912289   recent work show hamiltonian system constraint...  \n",
       "9912290   discuss shuffl ident feynman graph use hopf al...  \n",
       "9912291   show simpl way deriv casimir polder interact p...  \n",
       "9912292   construct worldlin superfield massiv superpart...  \n",
       "9912293   recent paper seiberg witten argu full action d...  \n",
       "\n",
       "[20206 rows x 3 columns]"
      ]
     },
     "execution_count": 7,
     "metadata": {},
     "output_type": "execute_result"
    }
   ],
   "source": [
    "df['Preprocessed'] = df['Abstract'].apply(full_text_preprocess)\n",
    "df"
   ]
  },
  {
   "cell_type": "markdown",
   "metadata": {},
   "source": [
    "First way is to get text embeddings using `CountVectorizer` and use them as input of `LogisticRegression` model to classify papers:"
   ]
  },
  {
   "cell_type": "code",
   "execution_count": 8,
   "metadata": {},
   "outputs": [],
   "source": [
    "bow = CountVectorizer()\n",
    "x_train = bow.fit_transform(df.loc[train]['Preprocessed'])\n",
    "x_test = bow.transform(df.loc[test]['Preprocessed'])\n",
    "y_train = df.loc[train]['target_citation_rate']\n",
    "y_test = df.loc[test]['target_citation_rate']"
   ]
  },
  {
   "cell_type": "code",
   "execution_count": 9,
   "metadata": {},
   "outputs": [],
   "source": [
    "log_reg = LogisticRegression(max_iter=1000).fit(x_train, y_train)"
   ]
  },
  {
   "cell_type": "code",
   "execution_count": 10,
   "metadata": {},
   "outputs": [
    {
     "name": "stdout",
     "output_type": "stream",
     "text": [
      "CountVectorizer embeddings:\n",
      "Logistic regression:\n",
      "               precision    recall  f1-score   support\n",
      "\n",
      "           0       0.57      0.66      0.61       885\n",
      "           1       0.20      0.14      0.17       298\n",
      "           2       0.24      0.22      0.23       385\n",
      "           3       0.51      0.49      0.50       453\n",
      "\n",
      "    accuracy                           0.46      2021\n",
      "   macro avg       0.38      0.38      0.38      2021\n",
      "weighted avg       0.44      0.46      0.45      2021\n",
      "\n"
     ]
    }
   ],
   "source": [
    "print(\"CountVectorizer embeddings:\")\n",
    "print(\"Logistic regression:\\n\", classification_report(y_test, log_reg.predict(x_test)))"
   ]
  },
  {
   "cell_type": "markdown",
   "metadata": {},
   "source": [
    "More elaborate way is to use `Word2Vec` to get the embeddings (they are already precalculated in `get_text_embeddings.ipynb`)"
   ]
  },
  {
   "cell_type": "code",
   "execution_count": 11,
   "metadata": {},
   "outputs": [
    {
     "data": {
      "text/html": [
       "<div>\n",
       "<style scoped>\n",
       "    .dataframe tbody tr th:only-of-type {\n",
       "        vertical-align: middle;\n",
       "    }\n",
       "\n",
       "    .dataframe tbody tr th {\n",
       "        vertical-align: top;\n",
       "    }\n",
       "\n",
       "    .dataframe thead th {\n",
       "        text-align: right;\n",
       "    }\n",
       "</style>\n",
       "<table border=\"1\" class=\"dataframe\">\n",
       "  <thead>\n",
       "    <tr style=\"text-align: right;\">\n",
       "      <th></th>\n",
       "      <th>Abstract</th>\n",
       "      <th>target_citation_rate</th>\n",
       "      <th>Preprocessed</th>\n",
       "      <th>word2vec_embeddings</th>\n",
       "    </tr>\n",
       "    <tr>\n",
       "      <th>Paper_ID</th>\n",
       "      <th></th>\n",
       "      <th></th>\n",
       "      <th></th>\n",
       "      <th></th>\n",
       "    </tr>\n",
       "  </thead>\n",
       "  <tbody>\n",
       "    <tr>\n",
       "      <th>1001</th>\n",
       "      <td>These are notes based on lectures given at TAS...</td>\n",
       "      <td>3</td>\n",
       "      <td>note base lectur given tasi99 review geometri ...</td>\n",
       "      <td>[0.07710943936411586, 0.017732303437842427, 0....</td>\n",
       "    </tr>\n",
       "    <tr>\n",
       "      <th>1002</th>\n",
       "      <td>We point out that massive gauged supergravity ...</td>\n",
       "      <td>3</td>\n",
       "      <td>point massiv gaug supergrav potenti exampl ari...</td>\n",
       "      <td>[0.08560000834107592, 0.0014293290410204089, -...</td>\n",
       "    </tr>\n",
       "    <tr>\n",
       "      <th>1003</th>\n",
       "      <td>Recently, Ivanov and Volovich (hep-th/9912242)...</td>\n",
       "      <td>1</td>\n",
       "      <td>recent ivanov volovich hepth9912242 claim pert...</td>\n",
       "      <td>[0.06882751917308004, 0.03572695514768097, -0....</td>\n",
       "    </tr>\n",
       "    <tr>\n",
       "      <th>1004</th>\n",
       "      <td>Quantum fields responding to \"moving mirrors\" ...</td>\n",
       "      <td>0</td>\n",
       "      <td>quantum field respond move mirror predict give...</td>\n",
       "      <td>[0.08449108820534139, 0.01706996641336109, -0....</td>\n",
       "    </tr>\n",
       "    <tr>\n",
       "      <th>1005</th>\n",
       "      <td>Various aspects of spaces of chiral blocks are...</td>\n",
       "      <td>0</td>\n",
       "      <td>variou aspect space chiral block discuss parti...</td>\n",
       "      <td>[0.07200555902580397, 0.03283976057829691, -0....</td>\n",
       "    </tr>\n",
       "  </tbody>\n",
       "</table>\n",
       "</div>"
      ],
      "text/plain": [
       "                                                   Abstract  \\\n",
       "Paper_ID                                                      \n",
       "1001      These are notes based on lectures given at TAS...   \n",
       "1002      We point out that massive gauged supergravity ...   \n",
       "1003      Recently, Ivanov and Volovich (hep-th/9912242)...   \n",
       "1004      Quantum fields responding to \"moving mirrors\" ...   \n",
       "1005      Various aspects of spaces of chiral blocks are...   \n",
       "\n",
       "          target_citation_rate  \\\n",
       "Paper_ID                         \n",
       "1001                         3   \n",
       "1002                         3   \n",
       "1003                         1   \n",
       "1004                         0   \n",
       "1005                         0   \n",
       "\n",
       "                                               Preprocessed  \\\n",
       "Paper_ID                                                      \n",
       "1001      note base lectur given tasi99 review geometri ...   \n",
       "1002      point massiv gaug supergrav potenti exampl ari...   \n",
       "1003      recent ivanov volovich hepth9912242 claim pert...   \n",
       "1004      quantum field respond move mirror predict give...   \n",
       "1005      variou aspect space chiral block discuss parti...   \n",
       "\n",
       "                                        word2vec_embeddings  \n",
       "Paper_ID                                                     \n",
       "1001      [0.07710943936411586, 0.017732303437842427, 0....  \n",
       "1002      [0.08560000834107592, 0.0014293290410204089, -...  \n",
       "1003      [0.06882751917308004, 0.03572695514768097, -0....  \n",
       "1004      [0.08449108820534139, 0.01706996641336109, -0....  \n",
       "1005      [0.07200555902580397, 0.03283976057829691, -0....  "
      ]
     },
     "execution_count": 11,
     "metadata": {},
     "output_type": "execute_result"
    }
   ],
   "source": [
    "word2vec_embs_path = os.path.join(os.pardir, 'data', 'embeddings_50.npy')\n",
    "word2vec_embs = np.load(word2vec_embs_path)\n",
    "df['word2vec_embeddings'] = list(word2vec_embs)\n",
    "df.head()"
   ]
  },
  {
   "cell_type": "code",
   "execution_count": 12,
   "metadata": {},
   "outputs": [],
   "source": [
    "x_train = np.array(df.loc[train]['word2vec_embeddings'].tolist())\n",
    "x_test = np.array(df.loc[test]['word2vec_embeddings'].tolist())"
   ]
  },
  {
   "cell_type": "code",
   "execution_count": 13,
   "metadata": {},
   "outputs": [],
   "source": [
    "log_reg = LogisticRegression(max_iter=1000).fit(x_train, y_train)"
   ]
  },
  {
   "cell_type": "code",
   "execution_count": 14,
   "metadata": {},
   "outputs": [
    {
     "name": "stdout",
     "output_type": "stream",
     "text": [
      "word2vec embeddings:\n",
      "Logistic regression:\n",
      "               precision    recall  f1-score   support\n",
      "\n",
      "           0       0.44      1.00      0.61       885\n",
      "           1       0.00      0.00      0.00       298\n",
      "           2       0.50      0.00      0.01       385\n",
      "           3       1.00      0.00      0.01       453\n",
      "\n",
      "    accuracy                           0.44      2021\n",
      "   macro avg       0.48      0.25      0.16      2021\n",
      "weighted avg       0.51      0.44      0.27      2021\n",
      "\n"
     ]
    },
    {
     "name": "stderr",
     "output_type": "stream",
     "text": [
      "/mnt/d/Homework/5_semester/Сети/Project/hse-sna-project/.venv/lib/python3.10/site-packages/sklearn/metrics/_classification.py:1531: UndefinedMetricWarning: Precision is ill-defined and being set to 0.0 in labels with no predicted samples. Use `zero_division` parameter to control this behavior.\n",
      "  _warn_prf(average, modifier, f\"{metric.capitalize()} is\", len(result))\n",
      "/mnt/d/Homework/5_semester/Сети/Project/hse-sna-project/.venv/lib/python3.10/site-packages/sklearn/metrics/_classification.py:1531: UndefinedMetricWarning: Precision is ill-defined and being set to 0.0 in labels with no predicted samples. Use `zero_division` parameter to control this behavior.\n",
      "  _warn_prf(average, modifier, f\"{metric.capitalize()} is\", len(result))\n",
      "/mnt/d/Homework/5_semester/Сети/Project/hse-sna-project/.venv/lib/python3.10/site-packages/sklearn/metrics/_classification.py:1531: UndefinedMetricWarning: Precision is ill-defined and being set to 0.0 in labels with no predicted samples. Use `zero_division` parameter to control this behavior.\n",
      "  _warn_prf(average, modifier, f\"{metric.capitalize()} is\", len(result))\n"
     ]
    }
   ],
   "source": [
    "print(\"word2vec embeddings:\")\n",
    "print(\"Logistic regression:\\n\", classification_report(y_test, log_reg.predict(x_test)))"
   ]
  },
  {
   "cell_type": "markdown",
   "metadata": {},
   "source": [
    "And finally we can try using graph embeddings that were calculated using `Node2Vec`"
   ]
  },
  {
   "cell_type": "code",
   "execution_count": 15,
   "metadata": {},
   "outputs": [],
   "source": [
    "graph_embs_path = os.path.join(os.pardir, 'data', 'n2c_embs')\n",
    "node_embeddings = KeyedVectors.load_word2vec_format(graph_embs_path)\n",
    "df['graph_embeddings'] = df.index.map(lambda x: node_embeddings[str(x)])"
   ]
  },
  {
   "cell_type": "code",
   "execution_count": 16,
   "metadata": {},
   "outputs": [],
   "source": [
    "x_train = np.array(df.loc[train]['graph_embeddings'].tolist())\n",
    "x_test = np.array(df.loc[test]['graph_embeddings'].tolist())"
   ]
  },
  {
   "cell_type": "code",
   "execution_count": 17,
   "metadata": {},
   "outputs": [],
   "source": [
    "log_reg = LogisticRegression(max_iter=1000, random_state=10, solver='sag').fit(x_train, y_train)"
   ]
  },
  {
   "cell_type": "code",
   "execution_count": 18,
   "metadata": {},
   "outputs": [
    {
     "name": "stdout",
     "output_type": "stream",
     "text": [
      "Graph embeddings:\n",
      "Logistic regression:\n",
      "               precision    recall  f1-score   support\n",
      "\n",
      "           0       0.54      0.90      0.68       885\n",
      "           1       0.00      0.00      0.00       298\n",
      "           2       0.25      0.04      0.07       385\n",
      "           3       0.54      0.58      0.56       453\n",
      "\n",
      "    accuracy                           0.53      2021\n",
      "   macro avg       0.33      0.38      0.33      2021\n",
      "weighted avg       0.41      0.53      0.43      2021\n",
      "\n"
     ]
    }
   ],
   "source": [
    "print(\"Graph embeddings:\")\n",
    "print(\"Logistic regression:\\n\", classification_report(y_test, log_reg.predict(x_test)))"
   ]
  }
 ],
 "metadata": {
  "kernelspec": {
   "display_name": ".venv",
   "language": "python",
   "name": "python3"
  },
  "language_info": {
   "codemirror_mode": {
    "name": "ipython",
    "version": 3
   },
   "file_extension": ".py",
   "mimetype": "text/x-python",
   "name": "python",
   "nbconvert_exporter": "python",
   "pygments_lexer": "ipython3",
   "version": "3.10.12"
  }
 },
 "nbformat": 4,
 "nbformat_minor": 2
}
