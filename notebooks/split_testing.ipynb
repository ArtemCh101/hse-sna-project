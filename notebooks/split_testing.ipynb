{
 "cells": [
  {
   "cell_type": "code",
   "execution_count": 1,
   "id": "17156250-a990-469c-a4f3-bf22b3853477",
   "metadata": {},
   "outputs": [],
   "source": [
    "import matplotlib.dates as mdates\n",
    "import matplotlib.pyplot as plt\n",
    "import networkx as nx\n",
    "import numpy as np\n",
    "import pandas as pd\n",
    "import os, sys"
   ]
  },
  {
   "cell_type": "markdown",
   "id": "3287db9b-2d9f-4dc0-a3cb-120c1b7b718d",
   "metadata": {},
   "source": [
    "Importing scripts"
   ]
  },
  {
   "cell_type": "code",
   "execution_count": 3,
   "id": "a93693ba-7044-4c38-8794-b4c35c995ebb",
   "metadata": {},
   "outputs": [],
   "source": [
    "scripts_dir = os.path.join(os.path.dirname(os.path.abspath('')), 'scripts')\n",
    "if not scripts_dir in sys.path:\n",
    "    sys.path.append(scripts_dir)"
   ]
  },
  {
   "cell_type": "code",
   "execution_count": 4,
   "id": "54d1ea87-847f-462a-80d7-ba7628822311",
   "metadata": {},
   "outputs": [],
   "source": [
    "from past_present_train_test_split import train_test_split_indegree, prepare_training_data"
   ]
  },
  {
   "cell_type": "markdown",
   "id": "b5054f96-70e5-4148-82e8-8eb17f5a1675",
   "metadata": {},
   "source": [
    "This function will provide you with the Graph you can analyse on and dataframe, with precounted and splitted train and test targets "
   ]
  },
  {
   "cell_type": "code",
   "execution_count": 6,
   "id": "bc09aaa4-8dff-445c-ab60-342fc69553df",
   "metadata": {},
   "outputs": [],
   "source": [
    "input_date='2001-01-01'\n",
    "test_frac=0.1"
   ]
  },
  {
   "cell_type": "code",
   "execution_count": null,
   "id": "cd618287-bed5-4dba-8c89-8fd346945b7f",
   "metadata": {},
   "outputs": [
    {
     "name": "stdout",
     "output_type": "stream",
     "text": [
      "Papers after date found by split : 7170\n"
     ]
    }
   ],
   "source": [
    "G, df = prepare_training_data(input_date=input_date,test_frac=test_frac) # Those values are also default"
   ]
  },
  {
   "cell_type": "code",
   "execution_count": null,
   "id": "999dd163-5c59-43da-80c2-de7d793b853d",
   "metadata": {},
   "outputs": [],
   "source": [
    "print(f'Nodes:  {G.number_of_nodes():,}\\nEdges: {G.number_of_edges():,}')"
   ]
  },
  {
   "cell_type": "code",
   "execution_count": null,
   "id": "cf6c6bb8-a8dc-4a42-a735-a38613182664",
   "metadata": {},
   "outputs": [],
   "source": [
    "df"
   ]
  },
  {
   "cell_type": "markdown",
   "id": "b506078b-4da5-4d8e-96a3-5c417681e177",
   "metadata": {},
   "source": [
    "As you can see, the number of rows is correct"
   ]
  }
 ],
 "metadata": {
  "kernelspec": {
   "display_name": "Python 3 (ipykernel)",
   "language": "python",
   "name": "python3"
  },
  "language_info": {
   "codemirror_mode": {
    "name": "ipython",
    "version": 3
   },
   "file_extension": ".py",
   "mimetype": "text/x-python",
   "name": "python",
   "nbconvert_exporter": "python",
   "pygments_lexer": "ipython3",
   "version": "3.12.7"
  }
 },
 "nbformat": 4,
 "nbformat_minor": 5
}
