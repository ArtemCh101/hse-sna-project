{
 "cells": [
  {
   "cell_type": "code",
   "execution_count": null,
   "metadata": {},
   "outputs": [],
   "source": [
    "from sklearn.feature_extraction.text import TfidfVectorizer\n",
    "import numpy as np\n",
    "import pandas as pd\n",
    "from tqdm import tqdm\n",
    "import os\n",
    "import gensim.downloader as api"
   ]
  },
  {
   "cell_type": "code",
   "execution_count": null,
   "metadata": {},
   "outputs": [],
   "source": [
    "def get_weighted_text_embedding(text, word_vectors, tfidf_weights):\n",
    "    words = text.split()\n",
    "    word_embeddings = []\n",
    "    weights = []\n",
    "    for word in words:\n",
    "        if word in word_vectors and word in tfidf_weights:\n",
    "            word_embeddings.append(word_vectors[word] * tfidf_weights[word])\n",
    "            weights.append(tfidf_weights[word])\n",
    "\n",
    "    if not word_embeddings:\n",
    "        return None\n",
    "\n",
    "    weighted_embedding = np.average(word_embeddings, axis=0, weights=weights)\n",
    "    return weighted_embedding"
   ]
  },
  {
   "cell_type": "code",
   "execution_count": null,
   "metadata": {},
   "outputs": [],
   "source": [
    "df_path = os.path.join(os.pardir, 'data', 'processed.csv')\n",
    "df = pd.read_csv(df_path)"
   ]
  },
  {
   "cell_type": "code",
   "execution_count": null,
   "metadata": {},
   "outputs": [],
   "source": [
    "emb_size = 50\n",
    "word_vectors = api.load(f\"glove-wiki-gigaword-{emb_size}\")\n",
    "texts = df['Abstract'].tolist()"
   ]
  },
  {
   "cell_type": "code",
   "execution_count": null,
   "metadata": {},
   "outputs": [],
   "source": [
    "vectorizer = TfidfVectorizer()\n",
    "vectorizer.fit(texts)\n",
    "tfidf_matrix = vectorizer.transform(texts)\n",
    "tfidf_feature_names = vectorizer.get_feature_names_out()"
   ]
  },
  {
   "cell_type": "code",
   "execution_count": null,
   "metadata": {},
   "outputs": [],
   "source": [
    "text_embeddings = []\n",
    "for i, text in tqdm(enumerate(texts), total=len(texts)):\n",
    "    tfidf_weights = {word: tfidf_matrix[i, idx] for word, idx in zip(\n",
    "        tfidf_feature_names, range(len(tfidf_feature_names)))}\n",
    "    embedding = get_weighted_text_embedding(text, word_vectors, tfidf_weights)\n",
    "    if embedding is None:\n",
    "        text_embeddings.append(np.zeros_like(text_embeddings[-1]))\n",
    "    else:\n",
    "        text_embeddings.append(embedding)\n",
    "\n",
    "np.save(os.path.join(os.pardir, f'embeddings_{emb_size}.npy'), np.array(text_embeddings))"
   ]
  }
 ],
 "metadata": {
  "kernelspec": {
   "display_name": "sna",
   "language": "python",
   "name": "python3"
  },
  "language_info": {
   "name": "python",
   "version": "3.10.15"
  }
 },
 "nbformat": 4,
 "nbformat_minor": 2
}
