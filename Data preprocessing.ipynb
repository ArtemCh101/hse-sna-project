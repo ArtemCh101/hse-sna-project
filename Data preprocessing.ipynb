{
 "cells": [
  {
   "cell_type": "code",
   "execution_count": 1,
   "id": "9af2659d",
   "metadata": {},
   "outputs": [],
   "source": [
    "#pip install bash_kernel"
   ]
  },
  {
   "cell_type": "code",
   "execution_count": 2,
   "id": "c930d141",
   "metadata": {},
   "outputs": [],
   "source": [
    "import re\n",
    "import pandas as pd\n",
    "import os\n",
    "import glob\n",
    "from datetime import datetime"
   ]
  },
  {
   "cell_type": "markdown",
   "id": "4e067983",
   "metadata": {},
   "source": [
    "## Data preprocessing for the citation rate prediction"
   ]
  },
  {
   "cell_type": "markdown",
   "id": "e11ac353",
   "metadata": {},
   "source": [
    "Data can be found at:https://snap.stanford.edu/data/cit-HepTh.html\n",
    "\n",
    "It represents the citation network in the fields of high energy theoretical physics\n"
   ]
  },
  {
   "cell_type": "markdown",
   "id": "473cd26b",
   "metadata": {},
   "source": [
    "Unarchive all data into \"data\" folder\n",
    "\n",
    "\n",
    "Before running this, make sure you are in the home folder. This will remove unnecessary lines from the files, and unfolder the folders with data"
   ]
  },
  {
   "cell_type": "code",
   "execution_count": 3,
   "id": "a12142dd",
   "metadata": {},
   "outputs": [],
   "source": [
    "%%bash\n",
    "cd data\n",
    "sed '1,4d' Cit-HepTh.txt > temp.txt && mv temp.txt Cit-HepTh.txt\n",
    "sed '1d' Cit-HepTh-dates.txt > temp.txt && mv temp.txt Cit-HepTh-dates.txt\n",
    "mv Cit-HepTh.txt Edgelist.txt\n",
    "mv Cit-HepTh-dates.txt Dates.txt\n",
    "cd .."
   ]
  },
  {
   "cell_type": "code",
   "execution_count": 4,
   "id": "20ab58bf",
   "metadata": {},
   "outputs": [],
   "source": [
    "%%bash\n",
    "cd data\n",
    "mkdir -p meta_files\n",
    "\n",
    "for folder in *; do\n",
    "  if [ -d \"$folder\" ] && [ \"$folder\" != \"meta_files\" ]; then\n",
    "    mv \"$folder\"/*.* meta_files/\n",
    "  fi\n",
    "done\n",
    "\n",
    "find . -type d -empty -not -path \"./meta_files\" -delete\n",
    "cd .."
   ]
  },
  {
   "cell_type": "markdown",
   "id": "86c6d86e",
   "metadata": {},
   "source": [
    "Parsing the metadata files.We consider all other information to be too sparse or irrelevant for the research"
   ]
  },
  {
   "cell_type": "code",
   "execution_count": 5,
   "id": "b0fa216e",
   "metadata": {},
   "outputs": [],
   "source": [
    "paper_features = ('Paper','Date','Title','Authors','Abstract')"
   ]
  },
  {
   "cell_type": "code",
   "execution_count": 6,
   "id": "5e1a902f",
   "metadata": {},
   "outputs": [],
   "source": [
    "def data_dict_from_file(filename):\n",
    "    data_dict = dict()\n",
    "    with open(filename, 'r') as file:\n",
    "        text = file.read()\n",
    "\n",
    "        last_comment = text.split(\"\\\\\\\\\")[2].strip()\n",
    "\n",
    "        # Extract key-value pairs using regular expressions and split by newline\n",
    "        pattern = r\"(\\S+): (.+)\"\n",
    "        matches = re.findall(pattern, text.split(\"\\\\\\\\\")[1], re.MULTILINE)\n",
    "\n",
    "        # Create a dictionary from the matches\n",
    "        data_dict = {key.strip(): value.strip() for key, value in matches}\n",
    "        to_pop = list()\n",
    "        for key in data_dict.keys():\n",
    "            if key not in paper_features:\n",
    "                to_pop.append(key)\n",
    "        for key in to_pop:\n",
    "            data_dict.pop(key, None)\n",
    "        data_dict['Abstract'] = last_comment\n",
    "        data_dict['Paper'] = int(data_dict['Paper'][7:])\n",
    "        \n",
    "        return data_dict"
   ]
  },
  {
   "cell_type": "code",
   "execution_count": 7,
   "id": "327fcb49",
   "metadata": {},
   "outputs": [],
   "source": [
    "dict_list = list()"
   ]
  },
  {
   "cell_type": "code",
   "execution_count": 8,
   "id": "075a901c",
   "metadata": {},
   "outputs": [],
   "source": [
    "directory = 'data\\meta_files'\n",
    "files = glob.glob(os.path.join(directory, '*'))\n",
    "\n",
    "for file in files:\n",
    "\n",
    "    if os.path.isfile(file):\n",
    "        new_dict = data_dict_from_file(file)\n",
    "        dict_list.append(new_dict)"
   ]
  },
  {
   "cell_type": "code",
   "execution_count": 9,
   "id": "5811044f",
   "metadata": {},
   "outputs": [],
   "source": [
    "full_data_dictionary = dict()\n",
    "for feature in paper_features:\n",
    "    full_data_dictionary[feature] = []"
   ]
  },
  {
   "cell_type": "code",
   "execution_count": 10,
   "id": "71f362e2",
   "metadata": {},
   "outputs": [],
   "source": [
    "for d in dict_list:\n",
    "    for key in paper_features:\n",
    "        if key not in d.keys():\n",
    "            d[key] = ''\n",
    "        full_data_dictionary[key].append(d[key])"
   ]
  },
  {
   "cell_type": "code",
   "execution_count": 11,
   "id": "7e94352c",
   "metadata": {},
   "outputs": [
    {
     "name": "stdout",
     "output_type": "stream",
     "text": [
      "29555\n",
      "29555\n",
      "29555\n",
      "29555\n",
      "29555\n"
     ]
    }
   ],
   "source": [
    "for feature in paper_features:\n",
    "    print(len(full_data_dictionary[feature]))"
   ]
  },
  {
   "cell_type": "markdown",
   "id": "6bd1513c",
   "metadata": {},
   "source": [
    "Creating dataframe with everything we need(dates need some manipulation still)"
   ]
  },
  {
   "cell_type": "code",
   "execution_count": 12,
   "id": "beab4007",
   "metadata": {},
   "outputs": [
    {
     "data": {
      "text/html": [
       "<div>\n",
       "<style scoped>\n",
       "    .dataframe tbody tr th:only-of-type {\n",
       "        vertical-align: middle;\n",
       "    }\n",
       "\n",
       "    .dataframe tbody tr th {\n",
       "        vertical-align: top;\n",
       "    }\n",
       "\n",
       "    .dataframe thead th {\n",
       "        text-align: right;\n",
       "    }\n",
       "</style>\n",
       "<table border=\"1\" class=\"dataframe\">\n",
       "  <thead>\n",
       "    <tr style=\"text-align: right;\">\n",
       "      <th></th>\n",
       "      <th>Paper</th>\n",
       "      <th>Date</th>\n",
       "      <th>Title</th>\n",
       "      <th>Authors</th>\n",
       "      <th>Abstract</th>\n",
       "    </tr>\n",
       "  </thead>\n",
       "  <tbody>\n",
       "    <tr>\n",
       "      <th>0</th>\n",
       "      <td>1001</td>\n",
       "      <td>Sat, 1 Jan 2000 00:02:31 GMT   (84kb)</td>\n",
       "      <td>Compactification, Geometry and Duality: N=2</td>\n",
       "      <td>Paul S. Aspinwall</td>\n",
       "      <td>These are notes based on lectures given at TAS...</td>\n",
       "    </tr>\n",
       "    <tr>\n",
       "      <th>1</th>\n",
       "      <td>1002</td>\n",
       "      <td>Mon, 3 Jan 2000 22:38:03 GMT   (64kb)</td>\n",
       "      <td>Domain Walls and Massive Gauged Supergravity P...</td>\n",
       "      <td>M. Cvetic, H. Lu and C.N. Pope</td>\n",
       "      <td>We point out that massive gauged supergravity ...</td>\n",
       "    </tr>\n",
       "    <tr>\n",
       "      <th>2</th>\n",
       "      <td>1003</td>\n",
       "      <td>Sat, 1 Jan 2000 06:14:51 GMT   (2kb)</td>\n",
       "      <td>Comment on \"Metric Fluctuations in Brane Worlds\"</td>\n",
       "      <td>Y.S. Myung and Gungwon Kang</td>\n",
       "      <td>Recently, Ivanov and Volovich (hep-th/9912242)...</td>\n",
       "    </tr>\n",
       "    <tr>\n",
       "      <th>3</th>\n",
       "      <td>1004</td>\n",
       "      <td>Sat, 1 Jan 2000 19:57:21 GMT   (13kb)</td>\n",
       "      <td>Moving Mirrors and Thermodynamic Paradoxes</td>\n",
       "      <td>Adam D. Helfer</td>\n",
       "      <td>Quantum fields responding to \"moving mirrors\" ...</td>\n",
       "    </tr>\n",
       "    <tr>\n",
       "      <th>4</th>\n",
       "      <td>1005</td>\n",
       "      <td>Sun, 2 Jan 2000 17:06:40 GMT   (24kb)</td>\n",
       "      <td>Bundles of chiral blocks and boundary conditio...</td>\n",
       "      <td>J. Fuchs, C. Schweigert</td>\n",
       "      <td>Various aspects of spaces of chiral blocks are...</td>\n",
       "    </tr>\n",
       "  </tbody>\n",
       "</table>\n",
       "</div>"
      ],
      "text/plain": [
       "   Paper                                   Date  \\\n",
       "0   1001  Sat, 1 Jan 2000 00:02:31 GMT   (84kb)   \n",
       "1   1002  Mon, 3 Jan 2000 22:38:03 GMT   (64kb)   \n",
       "2   1003   Sat, 1 Jan 2000 06:14:51 GMT   (2kb)   \n",
       "3   1004  Sat, 1 Jan 2000 19:57:21 GMT   (13kb)   \n",
       "4   1005  Sun, 2 Jan 2000 17:06:40 GMT   (24kb)   \n",
       "\n",
       "                                               Title  \\\n",
       "0        Compactification, Geometry and Duality: N=2   \n",
       "1  Domain Walls and Massive Gauged Supergravity P...   \n",
       "2   Comment on \"Metric Fluctuations in Brane Worlds\"   \n",
       "3         Moving Mirrors and Thermodynamic Paradoxes   \n",
       "4  Bundles of chiral blocks and boundary conditio...   \n",
       "\n",
       "                          Authors  \\\n",
       "0               Paul S. Aspinwall   \n",
       "1  M. Cvetic, H. Lu and C.N. Pope   \n",
       "2     Y.S. Myung and Gungwon Kang   \n",
       "3                  Adam D. Helfer   \n",
       "4         J. Fuchs, C. Schweigert   \n",
       "\n",
       "                                            Abstract  \n",
       "0  These are notes based on lectures given at TAS...  \n",
       "1  We point out that massive gauged supergravity ...  \n",
       "2  Recently, Ivanov and Volovich (hep-th/9912242)...  \n",
       "3  Quantum fields responding to \"moving mirrors\" ...  \n",
       "4  Various aspects of spaces of chiral blocks are...  "
      ]
     },
     "execution_count": 12,
     "metadata": {},
     "output_type": "execute_result"
    }
   ],
   "source": [
    "df = pd.DataFrame.from_dict(full_data_dictionary)\n",
    "df.head()"
   ]
  },
  {
   "cell_type": "markdown",
   "id": "df20d1f6",
   "metadata": {},
   "source": [
    "Let`s fix the dates"
   ]
  },
  {
   "cell_type": "code",
   "execution_count": 13,
   "id": "1cfe9a04",
   "metadata": {},
   "outputs": [],
   "source": [
    "def is_date_format(date_str,form):\n",
    "    pattern = r'^\\d{2}-[A-Z]{3}-\\d{4}$'\n",
    "    if form == 2:\n",
    "        pattern = r'^\\d{2}/\\d{2}/\\d{2}$'\n",
    "    if form == 3:\n",
    "        pattern = r'^(0?\\d|[12]\\d|3[01])-[a-zA-Z]{3}-\\d{4}$'\n",
    "    if re.match(pattern, date_str):\n",
    "        return True\n",
    "    else:\n",
    "        return False"
   ]
  },
  {
   "cell_type": "code",
   "execution_count": 14,
   "id": "00b1de1a",
   "metadata": {},
   "outputs": [],
   "source": [
    "for i, row in df.iterrows():\n",
    "    \n",
    "    if (row['Paper'] == 9509068): #no data in 1 case\n",
    "        row['Date'] = None\n",
    "        continue\n",
    "        \n",
    "    date_str = row['Date']\n",
    "    date_str = date_str.split()\n",
    "    date_obj = None\n",
    "    \n",
    "    if is_date_format(date_str[0],1):\n",
    "        sp = date_str[0].split('-')\n",
    "        date_conc = sp[0] + \" \" + sp[1] + \" \" + sp[2]\n",
    "        date_obj = datetime.strptime(date_conc, \"%d %b %Y\")\n",
    "        \n",
    "    elif is_date_format(date_str[0],2): \n",
    "        date_obj = datetime.strptime(date_str[0], \"%m/%d/%y\")\n",
    "    \n",
    "    elif is_date_format(date_str[0],3):\n",
    "        sp = date_str[0].split('-')\n",
    "        date_conc = '0' + sp[0] + \" \" + sp[1] + \" \" + sp[2]\n",
    "        date_obj = datetime.strptime(date_conc, \"%d %b %Y\")\n",
    "    else:\n",
    "        date_str = date_str[(1 - date_str[0][0].isdigit()):]\n",
    "\n",
    "        if not date_str[0].isdigit():\n",
    "            tmp = date_str[0]\n",
    "            date_str[0] = date_str[1]\n",
    "            date_str[1] = tmp\n",
    "\n",
    "        ind = 2\n",
    "        if date_str[2][-1] == ',':\n",
    "            date_str[2] = date_str[2][:-1]\n",
    "        while not date_str[2].isdigit():\n",
    "            ind += 1\n",
    "            date_str[2] = date_str[ind]\n",
    "        if int(date_str[2]) < 100:\n",
    "\n",
    "            date_str[2] = '19' + date_str[2]\n",
    "\n",
    "        date_str[1] = date_str[1][:3].upper()\n",
    "        date_only = date_str[0] +\" \"+ date_str[1] +\" \"+ date_str[2]\n",
    "        date_obj = datetime.strptime(date_only, \"%d %b %Y\")\n",
    "        \n",
    "    formatted_date = date_obj.strftime(\"%Y-%m-%d\")\n",
    "    df.at[i,'Date'] = formatted_date"
   ]
  },
  {
   "cell_type": "markdown",
   "id": "12978de2",
   "metadata": {},
   "source": [
    "Now lets turn Authors into a list"
   ]
  },
  {
   "cell_type": "code",
   "execution_count": 15,
   "id": "ff725f5a",
   "metadata": {},
   "outputs": [],
   "source": [
    "for i, row in df.iterrows():\n",
    "    string = row['Authors']\n",
    "    string = string.replace('and',',').replace(' ','').split(',')\n",
    "    df.at[i,'Authors'] = string"
   ]
  },
  {
   "cell_type": "markdown",
   "id": "f4117b86",
   "metadata": {},
   "source": [
    "Also let`s rename columns properly, check our df, and output the result"
   ]
  },
  {
   "cell_type": "code",
   "execution_count": 16,
   "id": "b9d27bd1",
   "metadata": {},
   "outputs": [],
   "source": [
    "df = df.rename(columns={\"Paper\": \"Paper_ID\"})"
   ]
  },
  {
   "cell_type": "code",
   "execution_count": 17,
   "id": "071da4b2",
   "metadata": {},
   "outputs": [
    {
     "data": {
      "text/html": [
       "<div>\n",
       "<style scoped>\n",
       "    .dataframe tbody tr th:only-of-type {\n",
       "        vertical-align: middle;\n",
       "    }\n",
       "\n",
       "    .dataframe tbody tr th {\n",
       "        vertical-align: top;\n",
       "    }\n",
       "\n",
       "    .dataframe thead th {\n",
       "        text-align: right;\n",
       "    }\n",
       "</style>\n",
       "<table border=\"1\" class=\"dataframe\">\n",
       "  <thead>\n",
       "    <tr style=\"text-align: right;\">\n",
       "      <th></th>\n",
       "      <th>Paper_ID</th>\n",
       "      <th>Date</th>\n",
       "      <th>Title</th>\n",
       "      <th>Authors</th>\n",
       "      <th>Abstract</th>\n",
       "    </tr>\n",
       "  </thead>\n",
       "  <tbody>\n",
       "    <tr>\n",
       "      <th>0</th>\n",
       "      <td>1001</td>\n",
       "      <td>2000-01-01</td>\n",
       "      <td>Compactification, Geometry and Duality: N=2</td>\n",
       "      <td>[PaulS.Aspinwall]</td>\n",
       "      <td>These are notes based on lectures given at TAS...</td>\n",
       "    </tr>\n",
       "    <tr>\n",
       "      <th>1</th>\n",
       "      <td>1002</td>\n",
       "      <td>2000-01-03</td>\n",
       "      <td>Domain Walls and Massive Gauged Supergravity P...</td>\n",
       "      <td>[M.Cvetic, H.Lu, C.N.Pope]</td>\n",
       "      <td>We point out that massive gauged supergravity ...</td>\n",
       "    </tr>\n",
       "    <tr>\n",
       "      <th>2</th>\n",
       "      <td>1003</td>\n",
       "      <td>2000-01-01</td>\n",
       "      <td>Comment on \"Metric Fluctuations in Brane Worlds\"</td>\n",
       "      <td>[Y.S.Myung, GungwonKang]</td>\n",
       "      <td>Recently, Ivanov and Volovich (hep-th/9912242)...</td>\n",
       "    </tr>\n",
       "    <tr>\n",
       "      <th>3</th>\n",
       "      <td>1004</td>\n",
       "      <td>2000-01-01</td>\n",
       "      <td>Moving Mirrors and Thermodynamic Paradoxes</td>\n",
       "      <td>[AdamD.Helfer]</td>\n",
       "      <td>Quantum fields responding to \"moving mirrors\" ...</td>\n",
       "    </tr>\n",
       "    <tr>\n",
       "      <th>4</th>\n",
       "      <td>1005</td>\n",
       "      <td>2000-01-02</td>\n",
       "      <td>Bundles of chiral blocks and boundary conditio...</td>\n",
       "      <td>[J.Fuchs, C.Schweigert]</td>\n",
       "      <td>Various aspects of spaces of chiral blocks are...</td>\n",
       "    </tr>\n",
       "  </tbody>\n",
       "</table>\n",
       "</div>"
      ],
      "text/plain": [
       "   Paper_ID        Date                                              Title  \\\n",
       "0      1001  2000-01-01        Compactification, Geometry and Duality: N=2   \n",
       "1      1002  2000-01-03  Domain Walls and Massive Gauged Supergravity P...   \n",
       "2      1003  2000-01-01   Comment on \"Metric Fluctuations in Brane Worlds\"   \n",
       "3      1004  2000-01-01         Moving Mirrors and Thermodynamic Paradoxes   \n",
       "4      1005  2000-01-02  Bundles of chiral blocks and boundary conditio...   \n",
       "\n",
       "                      Authors  \\\n",
       "0           [PaulS.Aspinwall]   \n",
       "1  [M.Cvetic, H.Lu, C.N.Pope]   \n",
       "2    [Y.S.Myung, GungwonKang]   \n",
       "3              [AdamD.Helfer]   \n",
       "4     [J.Fuchs, C.Schweigert]   \n",
       "\n",
       "                                            Abstract  \n",
       "0  These are notes based on lectures given at TAS...  \n",
       "1  We point out that massive gauged supergravity ...  \n",
       "2  Recently, Ivanov and Volovich (hep-th/9912242)...  \n",
       "3  Quantum fields responding to \"moving mirrors\" ...  \n",
       "4  Various aspects of spaces of chiral blocks are...  "
      ]
     },
     "execution_count": 17,
     "metadata": {},
     "output_type": "execute_result"
    }
   ],
   "source": [
    "df.head()"
   ]
  },
  {
   "cell_type": "code",
   "execution_count": 19,
   "id": "1ce62668",
   "metadata": {},
   "outputs": [],
   "source": [
    "df.to_csv(\"data/processed.csv\")"
   ]
  },
  {
   "cell_type": "markdown",
   "id": "29f5d973",
   "metadata": {},
   "source": [
    "We didn`t need dates file yet, but that time may come"
   ]
  }
 ],
 "metadata": {
  "kernelspec": {
   "display_name": "Python 3 (ipykernel)",
   "language": "python",
   "name": "python3"
  },
  "language_info": {
   "codemirror_mode": {
    "name": "ipython",
    "version": 3
   },
   "file_extension": ".py",
   "mimetype": "text/x-python",
   "name": "python",
   "nbconvert_exporter": "python",
   "pygments_lexer": "ipython3",
   "version": "3.10.9"
  }
 },
 "nbformat": 4,
 "nbformat_minor": 5
}
